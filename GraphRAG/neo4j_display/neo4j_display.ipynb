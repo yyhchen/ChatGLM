{
 "cells": [
  {
   "cell_type": "markdown",
   "metadata": {},
   "source": [
    "# 将 GraphRAG 生成的数据 导入 neo4j 可视化"
   ]
  },
  {
   "cell_type": "markdown",
   "metadata": {},
   "source": [
    "### 加载数据"
   ]
  },
  {
   "cell_type": "code",
   "execution_count": 6,
   "metadata": {},
   "outputs": [],
   "source": [
    "import pandas as pd\n",
    "\n",
    "data_path = \"/home/yhchen/CodeLibrary/ChatGLM/GraphRAG/data\"\n",
    "\n",
    "communities = pd.read_parquet(f\"{data_path}/create_final_communities.parquet\")\n",
    "community_reports = pd.read_parquet(f\"{data_path}/create_final_community_reports.parquet\")\n",
    "entities = pd.read_parquet(f\"{data_path}/create_final_entities.parquet\")\n",
    "text_units = pd.read_parquet(f\"{data_path}/create_final_text_units.parquet\")\n",
    "relationships = pd.read_parquet(f\"{data_path}/create_final_relationships.parquet\")"
   ]
  },
  {
   "cell_type": "code",
   "execution_count": 7,
   "metadata": {},
   "outputs": [
    {
     "data": {
      "text/html": [
       "<div>\n",
       "<style scoped>\n",
       "    .dataframe tbody tr th:only-of-type {\n",
       "        vertical-align: middle;\n",
       "    }\n",
       "\n",
       "    .dataframe tbody tr th {\n",
       "        vertical-align: top;\n",
       "    }\n",
       "\n",
       "    .dataframe thead th {\n",
       "        text-align: right;\n",
       "    }\n",
       "</style>\n",
       "<table border=\"1\" class=\"dataframe\">\n",
       "  <thead>\n",
       "    <tr style=\"text-align: right;\">\n",
       "      <th></th>\n",
       "      <th>id</th>\n",
       "      <th>title</th>\n",
       "      <th>level</th>\n",
       "      <th>raw_community</th>\n",
       "      <th>relationship_ids</th>\n",
       "      <th>text_unit_ids</th>\n",
       "    </tr>\n",
       "  </thead>\n",
       "  <tbody>\n",
       "    <tr>\n",
       "      <th>0</th>\n",
       "      <td>2</td>\n",
       "      <td>Community 2</td>\n",
       "      <td>0</td>\n",
       "      <td>2</td>\n",
       "      <td>[4d183e7007624fcd98af96b9d752c16d, 718c507cb8a...</td>\n",
       "      <td>[338c9e40c185682b2ad81ccc004ed48b,767a93d53f3f...</td>\n",
       "    </tr>\n",
       "    <tr>\n",
       "      <th>1</th>\n",
       "      <td>6</td>\n",
       "      <td>Community 6</td>\n",
       "      <td>0</td>\n",
       "      <td>6</td>\n",
       "      <td>[3c4062de44d64870a3cc5913d5769244, 24652fab20d...</td>\n",
       "      <td>[338c9e40c185682b2ad81ccc004ed48b,91437fcf6c97...</td>\n",
       "    </tr>\n",
       "  </tbody>\n",
       "</table>\n",
       "</div>"
      ],
      "text/plain": [
       "  id        title  level raw_community  \\\n",
       "0  2  Community 2      0             2   \n",
       "1  6  Community 6      0             6   \n",
       "\n",
       "                                    relationship_ids  \\\n",
       "0  [4d183e7007624fcd98af96b9d752c16d, 718c507cb8a...   \n",
       "1  [3c4062de44d64870a3cc5913d5769244, 24652fab20d...   \n",
       "\n",
       "                                       text_unit_ids  \n",
       "0  [338c9e40c185682b2ad81ccc004ed48b,767a93d53f3f...  \n",
       "1  [338c9e40c185682b2ad81ccc004ed48b,91437fcf6c97...  "
      ]
     },
     "execution_count": 7,
     "metadata": {},
     "output_type": "execute_result"
    }
   ],
   "source": [
    "communities.head(2)"
   ]
  },
  {
   "cell_type": "code",
   "execution_count": 8,
   "metadata": {},
   "outputs": [
    {
     "data": {
      "text/html": [
       "<div>\n",
       "<style scoped>\n",
       "    .dataframe tbody tr th:only-of-type {\n",
       "        vertical-align: middle;\n",
       "    }\n",
       "\n",
       "    .dataframe tbody tr th {\n",
       "        vertical-align: top;\n",
       "    }\n",
       "\n",
       "    .dataframe thead th {\n",
       "        text-align: right;\n",
       "    }\n",
       "</style>\n",
       "<table border=\"1\" class=\"dataframe\">\n",
       "  <thead>\n",
       "    <tr style=\"text-align: right;\">\n",
       "      <th></th>\n",
       "      <th>community</th>\n",
       "      <th>full_content</th>\n",
       "      <th>level</th>\n",
       "      <th>rank</th>\n",
       "      <th>title</th>\n",
       "      <th>rank_explanation</th>\n",
       "      <th>summary</th>\n",
       "      <th>findings</th>\n",
       "      <th>full_content_json</th>\n",
       "      <th>id</th>\n",
       "    </tr>\n",
       "  </thead>\n",
       "  <tbody>\n",
       "    <tr>\n",
       "      <th>0</th>\n",
       "      <td>0</td>\n",
       "      <td># 5G Network, Autonomous Systems, and Urban Pl...</td>\n",
       "      <td>0</td>\n",
       "      <td>7.0</td>\n",
       "      <td>5G Network, Autonomous Systems, and Urban Plan...</td>\n",
       "      <td>The impact severity rating is high due to the ...</td>\n",
       "      <td>The community is centered around the integrati...</td>\n",
       "      <td>[{'explanation': '5G network, represented by e...</td>\n",
       "      <td>{\\n    \"title\": \"5G Network, Autonomous System...</td>\n",
       "      <td>23b5ebae-f574-4b4a-bd0a-4dcb4d0a3d81</td>\n",
       "    </tr>\n",
       "    <tr>\n",
       "      <th>1</th>\n",
       "      <td>1</td>\n",
       "      <td># Autonomous Driving Ecosystem\\n\\nThe Autonomo...</td>\n",
       "      <td>0</td>\n",
       "      <td>7.0</td>\n",
       "      <td>Autonomous Driving Ecosystem</td>\n",
       "      <td>The ecosystem's impact severity rating is mode...</td>\n",
       "      <td>The Autonomous Driving Ecosystem revolves arou...</td>\n",
       "      <td>[{'explanation': 'The ecosystem is centered ar...</td>\n",
       "      <td>{\\n    \"title\": \"Autonomous Driving Ecosystem\"...</td>\n",
       "      <td>f0db4e83-7bb2-4dcf-88cb-108ffe7c7647</td>\n",
       "    </tr>\n",
       "  </tbody>\n",
       "</table>\n",
       "</div>"
      ],
      "text/plain": [
       "  community                                       full_content  level  rank  \\\n",
       "0         0  # 5G Network, Autonomous Systems, and Urban Pl...      0   7.0   \n",
       "1         1  # Autonomous Driving Ecosystem\\n\\nThe Autonomo...      0   7.0   \n",
       "\n",
       "                                               title  \\\n",
       "0  5G Network, Autonomous Systems, and Urban Plan...   \n",
       "1                       Autonomous Driving Ecosystem   \n",
       "\n",
       "                                    rank_explanation  \\\n",
       "0  The impact severity rating is high due to the ...   \n",
       "1  The ecosystem's impact severity rating is mode...   \n",
       "\n",
       "                                             summary  \\\n",
       "0  The community is centered around the integrati...   \n",
       "1  The Autonomous Driving Ecosystem revolves arou...   \n",
       "\n",
       "                                            findings  \\\n",
       "0  [{'explanation': '5G network, represented by e...   \n",
       "1  [{'explanation': 'The ecosystem is centered ar...   \n",
       "\n",
       "                                   full_content_json  \\\n",
       "0  {\\n    \"title\": \"5G Network, Autonomous System...   \n",
       "1  {\\n    \"title\": \"Autonomous Driving Ecosystem\"...   \n",
       "\n",
       "                                     id  \n",
       "0  23b5ebae-f574-4b4a-bd0a-4dcb4d0a3d81  \n",
       "1  f0db4e83-7bb2-4dcf-88cb-108ffe7c7647  "
      ]
     },
     "execution_count": 8,
     "metadata": {},
     "output_type": "execute_result"
    }
   ],
   "source": [
    "community_reports.head(2)"
   ]
  },
  {
   "cell_type": "code",
   "execution_count": 9,
   "metadata": {},
   "outputs": [
    {
     "data": {
      "text/html": [
       "<div>\n",
       "<style scoped>\n",
       "    .dataframe tbody tr th:only-of-type {\n",
       "        vertical-align: middle;\n",
       "    }\n",
       "\n",
       "    .dataframe tbody tr th {\n",
       "        vertical-align: top;\n",
       "    }\n",
       "\n",
       "    .dataframe thead th {\n",
       "        text-align: right;\n",
       "    }\n",
       "</style>\n",
       "<table border=\"1\" class=\"dataframe\">\n",
       "  <thead>\n",
       "    <tr style=\"text-align: right;\">\n",
       "      <th></th>\n",
       "      <th>id</th>\n",
       "      <th>name</th>\n",
       "      <th>type</th>\n",
       "      <th>description</th>\n",
       "      <th>human_readable_id</th>\n",
       "      <th>graph_embedding</th>\n",
       "      <th>text_unit_ids</th>\n",
       "      <th>description_embedding</th>\n",
       "    </tr>\n",
       "  </thead>\n",
       "  <tbody>\n",
       "    <tr>\n",
       "      <th>0</th>\n",
       "      <td>b45241d70f0e43fca764df95b2b81f77</td>\n",
       "      <td>\"自动驾驶\"</td>\n",
       "      <td>\"CONCEPT\"</td>\n",
       "      <td>\"\\\"\\\"\\\"\\\"\\\"\\\"\\\"\\\"\\\"\\\"\\\"\\\"\\\"\\\"\\\"\\\"\\\"\\\"\\\"\\\"\\\"\\\"\\...</td>\n",
       "      <td>0</td>\n",
       "      <td>None</td>\n",
       "      <td>[338c9e40c185682b2ad81ccc004ed48b, 767a93d53f3...</td>\n",
       "      <td>[0.027606548741459846, -0.006643487606197596, ...</td>\n",
       "    </tr>\n",
       "    <tr>\n",
       "      <th>1</th>\n",
       "      <td>4119fd06010c494caa07f439b333f4c5</td>\n",
       "      <td>\"网约车\"</td>\n",
       "      <td>\"ORGANIZATION\"</td>\n",
       "      <td>\"网约车是数字化改造的产业之一，用以替代巡游出租车，其改造过程通常是渐进的。\"</td>\n",
       "      <td>1</td>\n",
       "      <td>None</td>\n",
       "      <td>[338c9e40c185682b2ad81ccc004ed48b]</td>\n",
       "      <td>[-0.0335652120411396, 0.0033339483197778463, 0...</td>\n",
       "    </tr>\n",
       "  </tbody>\n",
       "</table>\n",
       "</div>"
      ],
      "text/plain": [
       "                                 id    name            type  \\\n",
       "0  b45241d70f0e43fca764df95b2b81f77  \"自动驾驶\"       \"CONCEPT\"   \n",
       "1  4119fd06010c494caa07f439b333f4c5   \"网约车\"  \"ORGANIZATION\"   \n",
       "\n",
       "                                         description  human_readable_id  \\\n",
       "0  \"\\\"\\\"\\\"\\\"\\\"\\\"\\\"\\\"\\\"\\\"\\\"\\\"\\\"\\\"\\\"\\\"\\\"\\\"\\\"\\\"\\\"\\\"\\...                  0   \n",
       "1            \"网约车是数字化改造的产业之一，用以替代巡游出租车，其改造过程通常是渐进的。\"                  1   \n",
       "\n",
       "  graph_embedding                                      text_unit_ids  \\\n",
       "0            None  [338c9e40c185682b2ad81ccc004ed48b, 767a93d53f3...   \n",
       "1            None                 [338c9e40c185682b2ad81ccc004ed48b]   \n",
       "\n",
       "                               description_embedding  \n",
       "0  [0.027606548741459846, -0.006643487606197596, ...  \n",
       "1  [-0.0335652120411396, 0.0033339483197778463, 0...  "
      ]
     },
     "execution_count": 9,
     "metadata": {},
     "output_type": "execute_result"
    }
   ],
   "source": [
    "entities.head(2)"
   ]
  },
  {
   "cell_type": "code",
   "execution_count": 10,
   "metadata": {},
   "outputs": [
    {
     "data": {
      "text/html": [
       "<div>\n",
       "<style scoped>\n",
       "    .dataframe tbody tr th:only-of-type {\n",
       "        vertical-align: middle;\n",
       "    }\n",
       "\n",
       "    .dataframe tbody tr th {\n",
       "        vertical-align: top;\n",
       "    }\n",
       "\n",
       "    .dataframe thead th {\n",
       "        text-align: right;\n",
       "    }\n",
       "</style>\n",
       "<table border=\"1\" class=\"dataframe\">\n",
       "  <thead>\n",
       "    <tr style=\"text-align: right;\">\n",
       "      <th></th>\n",
       "      <th>id</th>\n",
       "      <th>text</th>\n",
       "      <th>n_tokens</th>\n",
       "      <th>document_ids</th>\n",
       "      <th>entity_ids</th>\n",
       "      <th>relationship_ids</th>\n",
       "    </tr>\n",
       "  </thead>\n",
       "  <tbody>\n",
       "    <tr>\n",
       "      <th>0</th>\n",
       "      <td>0034f8aab40570315e906cea6777fb75</td>\n",
       "      <td>发展。\\n\\n \\n\\n\\n\\n \\n\\n而与红旗法案同时代，美国和德国在鼓励汽车产业的同时...</td>\n",
       "      <td>1200</td>\n",
       "      <td>[ee561ee109854a929c8af43657d70d28]</td>\n",
       "      <td>[d91a266f766b4737a06b0fda588ba40b, 4a67211867e...</td>\n",
       "      <td>[05913bee89a94bca88449249e35ba74d, 838c4498bc3...</td>\n",
       "    </tr>\n",
       "    <tr>\n",
       "      <th>1</th>\n",
       "      <td>e706feacef2f4e39de21d52d8fc0c532</td>\n",
       "      <td>。那是不是只需要在现有道路上安装路侧设备，实现车路云协同呢？这是必要的，而且是符合我国治理特...</td>\n",
       "      <td>1200</td>\n",
       "      <td>[ee561ee109854a929c8af43657d70d28]</td>\n",
       "      <td>[b45241d70f0e43fca764df95b2b81f77, 3671ea0dd4e...</td>\n",
       "      <td>[3c4062de44d64870a3cc5913d5769244, df40ad480a3...</td>\n",
       "    </tr>\n",
       "  </tbody>\n",
       "</table>\n",
       "</div>"
      ],
      "text/plain": [
       "                                 id  \\\n",
       "0  0034f8aab40570315e906cea6777fb75   \n",
       "1  e706feacef2f4e39de21d52d8fc0c532   \n",
       "\n",
       "                                                text  n_tokens  \\\n",
       "0  发展。\\n\\n \\n\\n\\n\\n \\n\\n而与红旗法案同时代，美国和德国在鼓励汽车产业的同时...      1200   \n",
       "1  。那是不是只需要在现有道路上安装路侧设备，实现车路云协同呢？这是必要的，而且是符合我国治理特...      1200   \n",
       "\n",
       "                         document_ids  \\\n",
       "0  [ee561ee109854a929c8af43657d70d28]   \n",
       "1  [ee561ee109854a929c8af43657d70d28]   \n",
       "\n",
       "                                          entity_ids  \\\n",
       "0  [d91a266f766b4737a06b0fda588ba40b, 4a67211867e...   \n",
       "1  [b45241d70f0e43fca764df95b2b81f77, 3671ea0dd4e...   \n",
       "\n",
       "                                    relationship_ids  \n",
       "0  [05913bee89a94bca88449249e35ba74d, 838c4498bc3...  \n",
       "1  [3c4062de44d64870a3cc5913d5769244, df40ad480a3...  "
      ]
     },
     "execution_count": 10,
     "metadata": {},
     "output_type": "execute_result"
    }
   ],
   "source": [
    "text_units.head(2)"
   ]
  },
  {
   "cell_type": "code",
   "execution_count": 11,
   "metadata": {},
   "outputs": [
    {
     "data": {
      "text/html": [
       "<div>\n",
       "<style scoped>\n",
       "    .dataframe tbody tr th:only-of-type {\n",
       "        vertical-align: middle;\n",
       "    }\n",
       "\n",
       "    .dataframe tbody tr th {\n",
       "        vertical-align: top;\n",
       "    }\n",
       "\n",
       "    .dataframe thead th {\n",
       "        text-align: right;\n",
       "    }\n",
       "</style>\n",
       "<table border=\"1\" class=\"dataframe\">\n",
       "  <thead>\n",
       "    <tr style=\"text-align: right;\">\n",
       "      <th></th>\n",
       "      <th>source</th>\n",
       "      <th>target</th>\n",
       "      <th>weight</th>\n",
       "      <th>description</th>\n",
       "      <th>text_unit_ids</th>\n",
       "      <th>id</th>\n",
       "      <th>human_readable_id</th>\n",
       "      <th>source_degree</th>\n",
       "      <th>target_degree</th>\n",
       "      <th>rank</th>\n",
       "    </tr>\n",
       "  </thead>\n",
       "  <tbody>\n",
       "    <tr>\n",
       "      <th>0</th>\n",
       "      <td>\"自动驾驶\"</td>\n",
       "      <td>\"社会变革\"</td>\n",
       "      <td>1.0</td>\n",
       "      <td>\"自动驾驶技术将引发社会变革，影响多个领域的发展。\"</td>\n",
       "      <td>[767a93d53f3f98f27b2b11bee3d716fc]</td>\n",
       "      <td>4d183e7007624fcd98af96b9d752c16d</td>\n",
       "      <td>0</td>\n",
       "      <td>7</td>\n",
       "      <td>1</td>\n",
       "      <td>8</td>\n",
       "    </tr>\n",
       "    <tr>\n",
       "      <th>1</th>\n",
       "      <td>\"自动驾驶\"</td>\n",
       "      <td>\"环境保护\"</td>\n",
       "      <td>1.0</td>\n",
       "      <td>\"自动驾驶技术通过节能减排，对环境保护产生积极影响。\"</td>\n",
       "      <td>[767a93d53f3f98f27b2b11bee3d716fc]</td>\n",
       "      <td>718c507cb8ac49e6a35c251ac951b5ca</td>\n",
       "      <td>1</td>\n",
       "      <td>7</td>\n",
       "      <td>1</td>\n",
       "      <td>8</td>\n",
       "    </tr>\n",
       "  </tbody>\n",
       "</table>\n",
       "</div>"
      ],
      "text/plain": [
       "   source  target  weight                  description  \\\n",
       "0  \"自动驾驶\"  \"社会变革\"     1.0   \"自动驾驶技术将引发社会变革，影响多个领域的发展。\"   \n",
       "1  \"自动驾驶\"  \"环境保护\"     1.0  \"自动驾驶技术通过节能减排，对环境保护产生积极影响。\"   \n",
       "\n",
       "                        text_unit_ids                                id  \\\n",
       "0  [767a93d53f3f98f27b2b11bee3d716fc]  4d183e7007624fcd98af96b9d752c16d   \n",
       "1  [767a93d53f3f98f27b2b11bee3d716fc]  718c507cb8ac49e6a35c251ac951b5ca   \n",
       "\n",
       "  human_readable_id  source_degree  target_degree  rank  \n",
       "0                 0              7              1     8  \n",
       "1                 1              7              1     8  "
      ]
     },
     "execution_count": 11,
     "metadata": {},
     "output_type": "execute_result"
    }
   ],
   "source": [
    "relationships.head(2)"
   ]
  },
  {
   "cell_type": "markdown",
   "metadata": {},
   "source": [
    "### 创建 neo4j 连接"
   ]
  },
  {
   "cell_type": "code",
   "execution_count": 16,
   "metadata": {},
   "outputs": [],
   "source": [
    "from neo4j import GraphDatabase"
   ]
  },
  {
   "cell_type": "code",
   "execution_count": 17,
   "metadata": {},
   "outputs": [],
   "source": [
    "NEO4J_URI = \"bolt://localhost:7687\"\n",
    "NEO4J_USERNAME = \"neo4j\"\n",
    "NEO4J_PASSWORD = \"12345678\" \n",
    "NEO4J_DATABASE = \"neo4j\"\n",
    "driver = GraphDatabase.driver(NEO4J_URI, auth=(NEO4J_USERNAME, NEO4J_PASSWORD))"
   ]
  },
  {
   "cell_type": "code",
   "execution_count": 18,
   "metadata": {},
   "outputs": [],
   "source": [
    "# 封装 neo4j数据查询 函数\n",
    "def import_data(cypher, df, batch_size=1000):\n",
    "\n",
    "    for i in range(0,len(df), batch_size):\n",
    "        batch = df.iloc[i: min(i+batch_size, len(df))]\n",
    "        result = driver.execute_query(\"UNWIND $rows AS value \" + cypher, \n",
    "                                      rows=batch.to_dict('records'),\n",
    "                                      database_=NEO4J_DATABASE)\n",
    "        print(result.summary.counters)\n",
    "    return "
   ]
  },
  {
   "cell_type": "markdown",
   "metadata": {},
   "source": [
    "### 导入 GraphRAG 生成的知识图谱到 neo4j"
   ]
  },
  {
   "cell_type": "code",
   "execution_count": 19,
   "metadata": {},
   "outputs": [
    {
     "name": "stdout",
     "output_type": "stream",
     "text": [
      "{'_contains_updates': True, 'labels_added': 13, 'nodes_created': 13, 'properties_set': 39}\n"
     ]
    }
   ],
   "source": [
    "#导入text units\n",
    "cypher_text_units = \"\"\"\n",
    "MERGE (c:__Chunk__ {id:value.id})\n",
    "SET c += value {.text, .n_tokens}\n",
    "WITH c, value\n",
    "UNWIND value.document_ids AS document\n",
    "MATCH (d:__Document__ {id:document})\n",
    "MERGE (c)-[:PART_OF]->(d)\n",
    "\"\"\"\n",
    "\n",
    "import_data(cypher_text_units, text_units)"
   ]
  },
  {
   "cell_type": "code",
   "execution_count": 20,
   "metadata": {},
   "outputs": [
    {
     "name": "stdout",
     "output_type": "stream",
     "text": [
      "{'_contains_updates': True, 'labels_added': 347, 'relationships_created': 460, 'nodes_created': 347, 'properties_set': 1388}\n"
     ]
    }
   ],
   "source": [
    "#加载entities\n",
    "cypher_entities= \"\"\"\n",
    "MERGE (e:__Entity__ {id:value.id})\n",
    "SET e += value {.human_readable_id, .description, name:replace(value.name,'\"','')}\n",
    "WITH e, value\n",
    "CALL db.create.setNodeVectorProperty(e, \"description_embedding\", value.description_embedding)\n",
    "CALL apoc.create.addLabels(e, case when coalesce(value.type,\"\") = \"\" then [] else [apoc.text.upperCamelCase(replace(value.type,'\"',''))] end) yield node\n",
    "UNWIND value.text_unit_ids AS text_unit\n",
    "MATCH (c:__Chunk__ {id:text_unit})\n",
    "MERGE (c)-[:HAS_ENTITY]->(e)\n",
    "\"\"\"\n",
    "\n",
    "import_data(cypher_entities, entities)"
   ]
  },
  {
   "cell_type": "code",
   "execution_count": 21,
   "metadata": {},
   "outputs": [
    {
     "name": "stdout",
     "output_type": "stream",
     "text": [
      "{'_contains_updates': True, 'relationships_created': 173, 'properties_set': 1038}\n"
     ]
    }
   ],
   "source": [
    "#导入relationships\n",
    "cypher_relationships = \"\"\"\n",
    "    MATCH (source:__Entity__ {name:replace(value.source,'\"','')})\n",
    "    MATCH (target:__Entity__ {name:replace(value.target,'\"','')})\n",
    "    // not necessary to merge on id as there is only one relationship per pair\n",
    "    MERGE (source)-[rel:RELATED {id: value.id}]->(target)\n",
    "    SET rel += value {.rank, .weight, .human_readable_id, .description, .text_unit_ids}\n",
    "    RETURN count(*) as createdRels\n",
    "\"\"\"\n",
    "\n",
    "import_data(cypher_relationships, relationships)"
   ]
  },
  {
   "cell_type": "code",
   "execution_count": 22,
   "metadata": {},
   "outputs": [
    {
     "name": "stdout",
     "output_type": "stream",
     "text": [
      "{'_contains_updates': True, 'labels_added': 8, 'relationships_created': 87, 'nodes_created': 8, 'properties_set': 24}\n"
     ]
    }
   ],
   "source": [
    "#导入communities\n",
    "cypher_communities = \"\"\"\n",
    "MERGE (c:__Community__ {community:value.id})\n",
    "SET c += value {.level, .title}\n",
    "/*\n",
    "UNWIND value.text_unit_ids as text_unit_id\n",
    "MATCH (t:__Chunk__ {id:text_unit_id})\n",
    "MERGE (c)-[:HAS_CHUNK]->(t)\n",
    "WITH distinct c, value\n",
    "*/\n",
    "WITH *\n",
    "UNWIND value.relationship_ids as rel_id\n",
    "MATCH (start:__Entity__)-[:RELATED {id:rel_id}]->(end:__Entity__)\n",
    "MERGE (start)-[:IN_COMMUNITY]->(c)\n",
    "MERGE (end)-[:IN_COMMUNITY]->(c)\n",
    "RETURn count(distinct c) as createdCommunities\n",
    "\"\"\"\n",
    "\n",
    "import_data(cypher_communities, communities)"
   ]
  },
  {
   "cell_type": "code",
   "execution_count": 23,
   "metadata": {},
   "outputs": [
    {
     "name": "stdout",
     "output_type": "stream",
     "text": [
      "{'_contains_updates': True, 'labels_added': 40, 'relationships_created': 40, 'nodes_created': 40, 'properties_set': 168}\n"
     ]
    }
   ],
   "source": [
    "#导入community_reports\n",
    "cypher_community_reports = \"\"\"MATCH (c:__Community__ {community: value.community})\n",
    "SET c += value {.level, .title, .rank, .rank_explanation, .full_content, .summary}\n",
    "WITH c, value\n",
    "UNWIND range(0, size(value.findings)-1) AS finding_idx\n",
    "WITH c, value, finding_idx, value.findings[finding_idx] as finding\n",
    "MERGE (c)-[:HAS_FINDING]->(f:Finding {id: finding_idx})\n",
    "SET f += finding\"\"\"\n",
    "import_data(cypher_community_reports, community_reports)"
   ]
  }
 ],
 "metadata": {
  "kernelspec": {
   "display_name": "graphrag_env",
   "language": "python",
   "name": "python3"
  },
  "language_info": {
   "codemirror_mode": {
    "name": "ipython",
    "version": 3
   },
   "file_extension": ".py",
   "mimetype": "text/x-python",
   "name": "python",
   "nbconvert_exporter": "python",
   "pygments_lexer": "ipython3",
   "version": "3.10.0"
  }
 },
 "nbformat": 4,
 "nbformat_minor": 2
}
